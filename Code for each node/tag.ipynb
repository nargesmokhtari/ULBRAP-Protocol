{
 "cells": [
  {
   "cell_type": "code",
   "execution_count": 4,
   "metadata": {},
   "outputs": [],
   "source": [
    "import secrets\n",
    "import hashlib"
   ]
  },
  {
   "cell_type": "code",
   "execution_count": 5,
   "metadata": {},
   "outputs": [],
   "source": [
    "def random_binary_generator(n):\n",
    "    # Gets integer n,\n",
    "    # Generates n random bits and returns it \n",
    "    # (Without the 0b)\n",
    "    random_bits = secrets.randbits(n)\n",
    "    binary_string = bin(random_bits)[2:]\n",
    "    binary_string = binary_string.zfill(n)\n",
    "\n",
    "    return binary_string"
   ]
  },
  {
   "cell_type": "code",
   "execution_count": 6,
   "metadata": {},
   "outputs": [],
   "source": [
    "def count_one_elements(binary_number):\n",
    "    # Gets a binary number,\n",
    "    # Counts '1' elements in binary number and returns it\n",
    "    count = 0\n",
    "    for digit in binary_number:\n",
    "        if digit == '1':\n",
    "            count += 1\n",
    "    return count\n",
    "\n",
    "def rotate_left(binary_number, shift_amount):\n",
    "    # Gets a binary number and shitf amount,\n",
    "    # Returns rotated number in binary\n",
    "    rotated_binary = binary_number[shift_amount:] + binary_number[:shift_amount]\n",
    "    return rotated_binary\n",
    "\n",
    "def rotate_right(binary_number, shift_amount):\n",
    "    # Gets a binary number and shitf amount,\n",
    "    # Returns rotated number in binary\n",
    "    rotated_binary = binary_number[-shift_amount:] + binary_number[:-shift_amount]\n",
    "    return rotated_binary"
   ]
  },
  {
   "cell_type": "code",
   "execution_count": 7,
   "metadata": {},
   "outputs": [],
   "source": [
    "def binary_xor(*args):\n",
    "    # Gets anu amount of binary numbers, \n",
    "    # (converts them to same lenth if they are not)\n",
    "    # Calculates XOR of them and then returns it\n",
    "\n",
    "    max_length = max(len(binary_string) for binary_string in args)\n",
    "    padded_args = [binary_string.zfill(max_length) for binary_string in args]\n",
    "    xor_binary_string = ''.join(str(sum(int(bit) for bit in bits) % 2) for bits in zip(*padded_args))\n",
    "\n",
    "    return xor_binary_string"
   ]
  },
  {
   "cell_type": "code",
   "execution_count": 8,
   "metadata": {},
   "outputs": [],
   "source": [
    "def hash_binary(binary_string):\n",
    "    # Gets a binary number,\n",
    "    # returns hash of it in hex\n",
    "    decimal_number = int(binary_string, 2)\n",
    "    byte_data = decimal_number.to_bytes((decimal_number.bit_length() + 7) // 8, byteorder='big')\n",
    "    sha1_hash = hashlib.sha1(byte_data).hexdigest()\n",
    "\n",
    "    sha1_hash = '0x' + sha1_hash\n",
    "    return sha1_hash"
   ]
  },
  {
   "cell_type": "markdown",
   "metadata": {},
   "source": [
    "## IDs of nodes"
   ]
  },
  {
   "cell_type": "code",
   "execution_count": 9,
   "metadata": {},
   "outputs": [],
   "source": [
    "# Should be shared\n",
    "IDNt_bin = '0010101111000011001000000010100100110011000011001010000101010011001010100101110001011000101100111110110010001111100011000111101111111111101100101011110001110010'\n",
    "IDNr_bin = '0010110111001000001111000010111111100010010100100111101001101110100101011000100001010100000110000001011010010101001010110110101010110000011011110000111001110000'\n",
    "IDNs_bin = '1010001111000111111001111100111111001000111110101010001011000001110111000101011110101110100001011000111001000000001101101101111011110001010001010101000111000001'\n",
    "BalN_bin = '1000110111111000011000100100101111111011001101100010000110111101101011110000110001001001001011011101100000010000001001101111111000010110111100000001101010011011'\n",
    "BS_bin = '1001101011100011111010110101101111000000010110111111101011111100110100001001100101010111010101010010110001010010010111100110101101100000011000011001111110000000'"
   ]
  },
  {
   "cell_type": "code",
   "execution_count": 10,
   "metadata": {},
   "outputs": [],
   "source": [
    "# Should be sent from Reader => Tag\n",
    "# Msg 1\n",
    "PR_bin = '0110001110101001111111111100001110100000010011011010110001100011001011001010101100111011101100000111001101111000101010000011111000111000001100010000100110011000'\n",
    "CHR_hex = '0x34873dbe9387e9d312bc5e6940bad2dafd175b5c'\n",
    "TIR_bin = '01010111101111001011101101010011'"
   ]
  },
  {
   "cell_type": "markdown",
   "metadata": {},
   "source": [
    "## Msg 2"
   ]
  },
  {
   "cell_type": "code",
   "execution_count": 11,
   "metadata": {},
   "outputs": [],
   "source": [
    "TIT_bin = random_binary_generator(32)"
   ]
  },
  {
   "cell_type": "code",
   "execution_count": 12,
   "metadata": {},
   "outputs": [],
   "source": [
    "# Extract R0\n",
    "# IDNt_bin ^ TIR_bin\n",
    "shift_amount_bin = binary_xor(IDNt_bin, TIR_bin)\n",
    "shifted_number_bin = rotate_right(PR_bin, count_one_elements(shift_amount_bin))\n",
    "\n",
    "# shifted_number_bin ^ IDNt_bin ^ TIR_bin\n",
    "R0_bin = binary_xor(shifted_number_bin, IDNt_bin, TIR_bin)"
   ]
  },
  {
   "cell_type": "code",
   "execution_count": 13,
   "metadata": {},
   "outputs": [],
   "source": [
    "# CHT\n",
    "# R0_bin ^ IDNt_bin ^ BalN_bin\n",
    "pre_CHT_bin = binary_xor(R0_bin, IDNt_bin, BalN_bin)\n",
    "CHT_hex = hash_binary(pre_CHT_bin)"
   ]
  },
  {
   "cell_type": "code",
   "execution_count": 14,
   "metadata": {},
   "outputs": [],
   "source": [
    "# PT\n",
    "# R0_bin ^ IDNs_bin ^ TIT_bin\n",
    "PT_1_bin = binary_xor(R0_bin, IDNs_bin, TIT_bin)\n",
    "\n",
    "# TIT_bin ^ IDNt_bin\n",
    "PT_2_bin = binary_xor(TIT_bin, IDNt_bin)\n",
    "\n",
    "PT_bin = rotate_left(PT_1_bin ,count_one_elements(PT_2_bin))"
   ]
  },
  {
   "cell_type": "code",
   "execution_count": 15,
   "metadata": {},
   "outputs": [],
   "source": [
    "# AthR\n",
    "# CHT_hex ^ R0_bin ^ PT_bin ^ IDNt_bin ^ TIT\n",
    "pre_AthR = binary_xor(bin(int(CHT_hex, 16))[2:], R0_bin, PT_bin, IDNt_bin, TIT_bin)\n",
    "AthR_hex = hash_binary(pre_AthR)"
   ]
  },
  {
   "cell_type": "code",
   "execution_count": 16,
   "metadata": {},
   "outputs": [
    {
     "name": "stdout",
     "output_type": "stream",
     "text": [
      "CHT_hex = '0x62a263ee93426984701a50427ad9f99b615b7eff'\n",
      "AthR_hex = '0x20bc909d7021476867db51928b99fa4b81301574'\n",
      "PT_bin = '0010101010001110010010110110001001110100011000001010010111110111011111101000010000101010010011100100100100101010001100000001100010110110001111011010010010111100'\n",
      "TIT_bin = '01101011000101100010101010001011'\n"
     ]
    }
   ],
   "source": [
    "msg2 = {\n",
    "    \"CHT_hex\": CHT_hex,\n",
    "    \"AthR_hex\": AthR_hex,\n",
    "    \"PT_bin\": PT_bin,\n",
    "    \"TIT_bin\": TIT_bin\n",
    "}\n",
    "\n",
    "print(f\"CHT_hex = '{CHT_hex}'\")\n",
    "print(f\"AthR_hex = '{AthR_hex}'\")\n",
    "print(f\"PT_bin = '{PT_bin}'\")\n",
    "print(f\"TIT_bin = '{TIT_bin}'\")"
   ]
  }
 ],
 "metadata": {
  "kernelspec": {
   "display_name": "Python 3",
   "language": "python",
   "name": "python3"
  },
  "language_info": {
   "codemirror_mode": {
    "name": "ipython",
    "version": 3
   },
   "file_extension": ".py",
   "mimetype": "text/x-python",
   "name": "python",
   "nbconvert_exporter": "python",
   "pygments_lexer": "ipython3",
   "version": "3.10.12"
  }
 },
 "nbformat": 4,
 "nbformat_minor": 2
}
