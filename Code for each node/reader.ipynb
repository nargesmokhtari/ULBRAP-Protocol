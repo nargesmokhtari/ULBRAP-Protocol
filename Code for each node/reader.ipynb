{
 "cells": [
  {
   "cell_type": "code",
   "execution_count": 1,
   "metadata": {},
   "outputs": [],
   "source": [
    "import secrets\n",
    "import hashlib"
   ]
  },
  {
   "cell_type": "code",
   "execution_count": 2,
   "metadata": {},
   "outputs": [],
   "source": [
    "def random_binary_generator(n):\n",
    "    # Gets integer n,\n",
    "    # Generates n random bits and returns it \n",
    "    # (Without the 0b)\n",
    "    random_bits = secrets.randbits(n)\n",
    "    binary_string = bin(random_bits)[2:]\n",
    "    binary_string = binary_string.zfill(n)\n",
    "\n",
    "    return binary_string"
   ]
  },
  {
   "cell_type": "code",
   "execution_count": 3,
   "metadata": {},
   "outputs": [],
   "source": [
    "def count_one_elements(binary_number):\n",
    "    # Gets a binary number,\n",
    "    # Counts '1' elements in binary number and returns it\n",
    "    count = 0\n",
    "    for digit in binary_number:\n",
    "        if digit == '1':\n",
    "            count += 1\n",
    "    return count\n",
    "\n",
    "def rotate_left(binary_number, shift_amount):\n",
    "    # Gets a binary number and shitf amount,\n",
    "    # Returns rotated number in binary\n",
    "    rotated_binary = binary_number[shift_amount:] + binary_number[:shift_amount]\n",
    "    return rotated_binary\n",
    "\n",
    "def rotate_right(binary_number, shift_amount):\n",
    "    # Gets a binary number and shitf amount,\n",
    "    # Returns rotated number in binary\n",
    "    rotated_binary = binary_number[-shift_amount:] + binary_number[:-shift_amount]\n",
    "    return rotated_binary"
   ]
  },
  {
   "cell_type": "code",
   "execution_count": 4,
   "metadata": {},
   "outputs": [],
   "source": [
    "def binary_xor(*args):\n",
    "    # Gets anu amount of binary numbers, \n",
    "    # (converts them to same lenth if they are not)\n",
    "    # Calculates XOR of them and then returns it\n",
    "\n",
    "    max_length = max(len(binary_string) for binary_string in args)\n",
    "    padded_args = [binary_string.zfill(max_length) for binary_string in args]\n",
    "    xor_binary_string = ''.join(str(sum(int(bit) for bit in bits) % 2) for bits in zip(*padded_args))\n",
    "\n",
    "    return xor_binary_string"
   ]
  },
  {
   "cell_type": "code",
   "execution_count": 5,
   "metadata": {},
   "outputs": [],
   "source": [
    "def hash_binary(binary_string):\n",
    "    # Gets a binary number,\n",
    "    # returns hash of it in hex\n",
    "    decimal_number = int(binary_string, 2)\n",
    "    byte_data = decimal_number.to_bytes((decimal_number.bit_length() + 7) // 8, byteorder='big')\n",
    "    sha1_hash = hashlib.sha1(byte_data).hexdigest()\n",
    "\n",
    "    sha1_hash = '0x' + sha1_hash\n",
    "    return sha1_hash"
   ]
  },
  {
   "cell_type": "markdown",
   "metadata": {},
   "source": [
    "## IDs of nodes"
   ]
  },
  {
   "cell_type": "code",
   "execution_count": 6,
   "metadata": {},
   "outputs": [
    {
     "name": "stdout",
     "output_type": "stream",
     "text": [
      "IDNt_bin = '0010101111000011001000000010100100110011000011001010000101010011001010100101110001011000101100111110110010001111100011000111101111111111101100101011110001110010'\n",
      "IDNr_bin = '0010110111001000001111000010111111100010010100100111101001101110100101011000100001010100000110000001011010010101001010110110101010110000011011110000111001110000'\n",
      "IDNs_bin = '1010001111000111111001111100111111001000111110101010001011000001110111000101011110101110100001011000111001000000001101101101111011110001010001010101000111000001'\n",
      "BalN_bin = '1000110111111000011000100100101111111011001101100010000110111101101011110000110001001001001011011101100000010000001001101111111000010110111100000001101010011011'\n",
      "BS_bin = '1001101011100011111010110101101111000000010110111111101011111100110100001001100101010111010101010010110001010010010111100110101101100000011000011001111110000000'\n"
     ]
    }
   ],
   "source": [
    "IDNt_bin = random_binary_generator(160)\n",
    "IDNr_bin = random_binary_generator(160)\n",
    "IDNs_bin = random_binary_generator(160)\n",
    "BalN_bin = random_binary_generator(160)\n",
    "BS_bin = random_binary_generator(160)\n",
    "\n",
    "print(f\"IDNt_bin = '{IDNt_bin}'\")\n",
    "print(f\"IDNr_bin = '{IDNr_bin}'\")\n",
    "print(f\"IDNs_bin = '{IDNs_bin}'\")\n",
    "print(f\"BalN_bin = '{BalN_bin}'\")\n",
    "print(f\"BS_bin = '{BS_bin}'\")"
   ]
  },
  {
   "cell_type": "markdown",
   "metadata": {},
   "source": [
    "## Msg 1"
   ]
  },
  {
   "cell_type": "code",
   "execution_count": 7,
   "metadata": {},
   "outputs": [],
   "source": [
    "R0_bin = random_binary_generator(160)\n",
    "TIR_bin = random_binary_generator(32)"
   ]
  },
  {
   "cell_type": "code",
   "execution_count": 25,
   "metadata": {},
   "outputs": [
    {
     "data": {
      "text/plain": [
       "'1110101000001110110000101000100111001011111011000110010101110101010010111101001011111111010011001110001000001110101110101100101000100100101111001010101111001111'"
      ]
     },
     "execution_count": 25,
     "metadata": {},
     "output_type": "execute_result"
    }
   ],
   "source": [
    "R0_bin"
   ]
  },
  {
   "cell_type": "code",
   "execution_count": 8,
   "metadata": {},
   "outputs": [],
   "source": [
    "# PR\n",
    "# R0_bin ^ IDNt_bin ^ TIR_bin\n",
    "PR_1_bin = binary_xor(R0_bin, IDNt_bin, TIR_bin)\n",
    "\n",
    "# TIR_bin ^ IDNt_bin\n",
    "PR_2_bin = binary_xor(TIR_bin, IDNt_bin)\n",
    "\n",
    "PR_bin = rotate_left(PR_1_bin ,count_one_elements(PR_2_bin))"
   ]
  },
  {
   "cell_type": "code",
   "execution_count": 9,
   "metadata": {},
   "outputs": [],
   "source": [
    "# PR_bin ^ IDNt_bin ^ TIR_bin\n",
    "pre_CHR_bin = binary_xor(PR_bin, IDNt_bin, TIR_bin)\n",
    "CHR_hex = hash_binary(pre_CHR_bin)"
   ]
  },
  {
   "cell_type": "code",
   "execution_count": 10,
   "metadata": {},
   "outputs": [
    {
     "name": "stdout",
     "output_type": "stream",
     "text": [
      "PR_bin = '0110001110101001111111111100001110100000010011011010110001100011001011001010101100111011101100000111001101111000101010000011111000111000001100010000100110011000'\n",
      "CHR_hex = '0x34873dbe9387e9d312bc5e6940bad2dafd175b5c'\n",
      "TIR_bin = '01010111101111001011101101010011'\n"
     ]
    }
   ],
   "source": [
    "msg1 = {\n",
    "    \"PR_bin\": PR_bin,\n",
    "    \"CHR_hex\": CHR_hex,\n",
    "    \"TIR_bin\": TIR_bin\n",
    "}\n",
    "\n",
    "print(f\"PR_bin = '{PR_bin}'\")\n",
    "print(f\"CHR_hex = '{CHR_hex}'\")\n",
    "print(f\"TIR_bin = '{TIR_bin}'\")"
   ]
  },
  {
   "cell_type": "markdown",
   "metadata": {},
   "source": [
    "## Msg 3"
   ]
  },
  {
   "cell_type": "code",
   "execution_count": 18,
   "metadata": {},
   "outputs": [],
   "source": [
    "# Should be sent from Tag => Reader\n",
    "# Msg 2\n",
    "CHT_hex = '0x62a263ee93426984701a50427ad9f99b615b7eff'\n",
    "AthR_hex = '0x20bc909d7021476867db51928b99fa4b81301574'\n",
    "PT_bin = '0010101010001110010010110110001001110100011000001010010111110111011111101000010000101010010011100100100100101010001100000001100010110110001111011010010010111100'\n",
    "TIT_bin = '01101011000101100010101010001011'"
   ]
  },
  {
   "cell_type": "code",
   "execution_count": 19,
   "metadata": {},
   "outputs": [],
   "source": [
    "TIR_prime_bin = random_binary_generator(32)\n",
    "RC_bin = random_binary_generator(160)\n",
    "Rd_bin = random_binary_generator(160)"
   ]
  },
  {
   "cell_type": "code",
   "execution_count": 20,
   "metadata": {},
   "outputs": [],
   "source": [
    "# PP\n",
    "# TIR_prime_bin ^ IDNs_bin ^ Rd_bin\n",
    "PP_bin = binary_xor(TIR_prime_bin, IDNs_bin, Rd_bin)"
   ]
  },
  {
   "cell_type": "code",
   "execution_count": 21,
   "metadata": {},
   "outputs": [],
   "source": [
    "# YRS\n",
    "# IDNs_bin || BS_bin || IDNr_bin\n",
    "pre_YRS = IDNs_bin + BS_bin + IDNr_bin\n",
    "YRS_hex = hash_binary(pre_YRS)"
   ]
  },
  {
   "cell_type": "code",
   "execution_count": 22,
   "metadata": {},
   "outputs": [],
   "source": [
    "# PQ\n",
    "PQ_bin = binary_xor(bin(int(YRS_hex, 16))[2:], Rd_bin)"
   ]
  },
  {
   "cell_type": "code",
   "execution_count": 23,
   "metadata": {},
   "outputs": [],
   "source": [
    "conct_for_reader_ckeck = Rd_bin + TIR_prime_bin\n",
    "pre_Reader_check = binary_xor(RC_bin, IDNs_bin, BalN_bin, conct_for_reader_ckeck)\n",
    "Reader_check_hex = hash_binary(pre_Reader_check)"
   ]
  },
  {
   "cell_type": "code",
   "execution_count": 24,
   "metadata": {},
   "outputs": [
    {
     "name": "stdout",
     "output_type": "stream",
     "text": [
      "PP_bin = '0101001111010001001010111111011101000110110100000011000100001110010111000001100110101110100000101010011101101010101000100101110111010101110001000110011101001101'\n",
      "PQ_bin = '0111101000101100110101010010110011111110100010001011101000101001001010101100011110100100110011100010011001101010000110101101001010111011101011110111110111111100'\n",
      "Reader_check_hex = '0x5df5d19d9d365ce4788b762b95c789034b3cab5e'\n",
      "TIR_prime_bin = '10101110111011001011000001101000'\n"
     ]
    }
   ],
   "source": [
    "msg3 = {\n",
    "    \"PP_bin\" : PP_bin,\n",
    "    \"PQ_bin\" : PQ_bin,\n",
    "    \"Reader_check_hex\" : Reader_check_hex,\n",
    "    \"TIR_prime_bin\" : TIR_prime_bin\n",
    "}\n",
    "\n",
    "print(f\"PP_bin = '{PP_bin}'\")\n",
    "print(f\"PQ_bin = '{PQ_bin}'\")\n",
    "print(f\"Reader_check_hex = '{Reader_check_hex}'\")\n",
    "print(f\"TIR_prime_bin = '{TIR_prime_bin}'\")"
   ]
  }
 ],
 "metadata": {
  "kernelspec": {
   "display_name": "Python 3",
   "language": "python",
   "name": "python3"
  },
  "language_info": {
   "codemirror_mode": {
    "name": "ipython",
    "version": 3
   },
   "file_extension": ".py",
   "mimetype": "text/x-python",
   "name": "python",
   "nbconvert_exporter": "python",
   "pygments_lexer": "ipython3",
   "version": "3.10.12"
  }
 },
 "nbformat": 4,
 "nbformat_minor": 2
}
