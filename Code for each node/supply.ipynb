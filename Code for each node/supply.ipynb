{
 "cells": [
  {
   "cell_type": "code",
   "execution_count": 15,
   "metadata": {},
   "outputs": [],
   "source": [
    "import secrets\n",
    "import hashlib"
   ]
  },
  {
   "cell_type": "code",
   "execution_count": 16,
   "metadata": {},
   "outputs": [],
   "source": [
    "def random_binary_generator(n):\n",
    "    # Gets integer n,\n",
    "    # Generates n random bits and returns it \n",
    "    # (Without the 0b)\n",
    "    random_bits = secrets.randbits(n)\n",
    "    binary_string = bin(random_bits)[2:]\n",
    "    binary_string = binary_string.zfill(n)\n",
    "\n",
    "    return binary_string"
   ]
  },
  {
   "cell_type": "code",
   "execution_count": 17,
   "metadata": {},
   "outputs": [],
   "source": [
    "def count_one_elements(binary_number):\n",
    "    # Gets a binary number,\n",
    "    # Counts '1' elements in binary number and returns it\n",
    "    count = 0\n",
    "    for digit in binary_number:\n",
    "        if digit == '1':\n",
    "            count += 1\n",
    "    return count\n",
    "\n",
    "def rotate_left(binary_number, shift_amount):\n",
    "    # Gets a binary number and shitf amount,\n",
    "    # Returns rotated number in binary\n",
    "    rotated_binary = binary_number[shift_amount:] + binary_number[:shift_amount]\n",
    "    return rotated_binary\n",
    "\n",
    "def rotate_right(binary_number, shift_amount):\n",
    "    # Gets a binary number and shitf amount,\n",
    "    # Returns rotated number in binary\n",
    "    rotated_binary = binary_number[-shift_amount:] + binary_number[:-shift_amount]\n",
    "    return rotated_binary"
   ]
  },
  {
   "cell_type": "code",
   "execution_count": 18,
   "metadata": {},
   "outputs": [],
   "source": [
    "def binary_xor(*args):\n",
    "    # Gets anu amount of binary numbers, \n",
    "    # (converts them to same lenth if they are not)\n",
    "    # Calculates XOR of them and then returns it\n",
    "\n",
    "    max_length = max(len(binary_string) for binary_string in args)\n",
    "    padded_args = [binary_string.zfill(max_length) for binary_string in args]\n",
    "    xor_binary_string = ''.join(str(sum(int(bit) for bit in bits) % 2) for bits in zip(*padded_args))\n",
    "\n",
    "    return xor_binary_string"
   ]
  },
  {
   "cell_type": "code",
   "execution_count": 19,
   "metadata": {},
   "outputs": [],
   "source": [
    "def hash_binary(binary_string):\n",
    "    # Gets a binary number,\n",
    "    # returns hash of it in hex\n",
    "    decimal_number = int(binary_string, 2)\n",
    "    byte_data = decimal_number.to_bytes((decimal_number.bit_length() + 7) // 8, byteorder='big')\n",
    "    sha1_hash = hashlib.sha1(byte_data).hexdigest()\n",
    "\n",
    "    sha1_hash = '0x' + sha1_hash\n",
    "    return sha1_hash"
   ]
  },
  {
   "cell_type": "markdown",
   "metadata": {},
   "source": [
    "## IDs of nodes"
   ]
  },
  {
   "cell_type": "code",
   "execution_count": 20,
   "metadata": {},
   "outputs": [],
   "source": [
    "# Should be sent from Reader => Supply\n",
    "# Msg 3\n",
    "PP_bin = '0101001111010001001010111111011101000110110100000011000100001110010111000001100110101110100000101010011101101010101000100101110111010101110001000110011101001101'\n",
    "PQ_bin = '0111101000101100110101010010110011111110100010001011101000101001001010101100011110100100110011100010011001101010000110101101001010111011101011110111110111111100'\n",
    "Reader_check_hex = '0x5df5d19d9d365ce4788b762b95c789034b3cab5e'\n",
    "TIR_prime_bin = '10101110111011001011000001101000'"
   ]
  },
  {
   "cell_type": "code",
   "execution_count": 21,
   "metadata": {},
   "outputs": [],
   "source": [
    "# Should be shared\n",
    "IDNt_bin = '0010101111000011001000000010100100110011000011001010000101010011001010100101110001011000101100111110110010001111100011000111101111111111101100101011110001110010'\n",
    "IDNr_bin = '0010110111001000001111000010111111100010010100100111101001101110100101011000100001010100000110000001011010010101001010110110101010110000011011110000111001110000'\n",
    "IDNs_bin = '1010001111000111111001111100111111001000111110101010001011000001110111000101011110101110100001011000111001000000001101101101111011110001010001010101000111000001'\n",
    "BalN_bin = '1000110111111000011000100100101111111011001101100010000110111101101011110000110001001001001011011101100000010000001001101111111000010110111100000001101010011011'\n",
    "BS_bin = '1001101011100011111010110101101111000000010110111111101011111100110100001001100101010111010101010010110001010010010111100110101101100000011000011001111110000000'"
   ]
  },
  {
   "cell_type": "code",
   "execution_count": 22,
   "metadata": {},
   "outputs": [],
   "source": [
    "# YRS\n",
    "# IDNs_bin || BS_bin || IDNr_bin (? is this ok ?)\n",
    "pre_YRS = IDNs_bin + BS_bin + IDNr_bin\n",
    "YRS_hex = hash_binary(pre_YRS)"
   ]
  },
  {
   "cell_type": "code",
   "execution_count": 23,
   "metadata": {},
   "outputs": [],
   "source": [
    "TIS_bin = random_binary_generator(32)\n",
    "S0_bin = random_binary_generator(160)"
   ]
  },
  {
   "cell_type": "code",
   "execution_count": 24,
   "metadata": {},
   "outputs": [],
   "source": [
    "# SE\n",
    "# IDNs_bin ^ YRS_hex\n",
    "SE_left_2_bin = binary_xor(IDNs_bin, bin(int(YRS_hex, 16))[2:])\n",
    "SE_left_bin = rotate_left(TIS_bin, count_one_elements(SE_left_2_bin))\n",
    "\n",
    "SE_right_bin = rotate_left(S0_bin, count_one_elements(bin(int(YRS_hex, 16))[2:]))\n",
    "\n",
    "SE_bin = binary_xor(SE_left_bin, SE_right_bin)"
   ]
  },
  {
   "cell_type": "code",
   "execution_count": 25,
   "metadata": {},
   "outputs": [],
   "source": [
    "# SF\n",
    "SF_left_bin = rotate_left(S0_bin, count_one_elements(IDNs_bin))\n",
    "SF_right_bin = rotate_left(TIS_bin, count_one_elements(bin(int(YRS_hex, 16))[2:]))\n",
    "\n",
    "SF_bin = binary_xor(SF_left_bin, SF_right_bin)"
   ]
  },
  {
   "cell_type": "code",
   "execution_count": 26,
   "metadata": {},
   "outputs": [],
   "source": [
    "# IDNt_bin ^ BalN_bin ^ S0_bin ^ IDNs_bin\n",
    "pre_TKST = binary_xor(IDNt_bin, BalN_bin, S0_bin, IDNs_bin)\n",
    "TKST_hex = hash_binary(pre_TKST)"
   ]
  },
  {
   "cell_type": "code",
   "execution_count": 27,
   "metadata": {},
   "outputs": [],
   "source": [
    "pre_SG = bin(int(TKST_hex, 16))[2:] + S0_bin + BalN_bin\n",
    "SG_hex = hash_binary(pre_SG)"
   ]
  },
  {
   "cell_type": "code",
   "execution_count": 28,
   "metadata": {},
   "outputs": [
    {
     "name": "stdout",
     "output_type": "stream",
     "text": [
      "SE_bin = '0000001111101001111000010101001011010001110000111011010001101011100001110110100110111000000011010010111001111010010101101000100111110110000111110001100011110111'\n",
      "SF_bin = '1110000101010010110100011100001110110100011010111000011101101001101110000000110100101110011110100101011010001001011110101111011110101110100111010011100101101011'\n",
      "SG_hex = '0xe1595ed7cefbd88dae1f4476f63d57a60a3117d5'\n",
      "TIS_bin = '10001100111010000011101010000010'\n"
     ]
    }
   ],
   "source": [
    "msg4 = {\n",
    "    \"SE_bin\" : SE_bin,\n",
    "    \"SF_bin\" : SF_bin,\n",
    "    \"SG_hex\" : SG_hex,\n",
    "    \"TIS_bin\" : TIS_bin\n",
    "}\n",
    "\n",
    "print(f\"SE_bin = '{SE_bin}'\")\n",
    "print(f\"SF_bin = '{SF_bin}'\")\n",
    "print(f\"SG_hex = '{SG_hex}'\")\n",
    "print(f\"TIS_bin = '{TIS_bin}'\")"
   ]
  },
  {
   "cell_type": "code",
   "execution_count": 29,
   "metadata": {},
   "outputs": [
    {
     "data": {
      "text/plain": [
       "'1010010111001111010010101101000100101111010111101110010001001110101000000111110100111100001010100101101000111000011101101000110101110000111011010011011100000001'"
      ]
     },
     "execution_count": 29,
     "metadata": {},
     "output_type": "execute_result"
    }
   ],
   "source": [
    "S0_bin"
   ]
  }
 ],
 "metadata": {
  "kernelspec": {
   "display_name": "Python 3",
   "language": "python",
   "name": "python3"
  },
  "language_info": {
   "codemirror_mode": {
    "name": "ipython",
    "version": 3
   },
   "file_extension": ".py",
   "mimetype": "text/x-python",
   "name": "python",
   "nbconvert_exporter": "python",
   "pygments_lexer": "ipython3",
   "version": "3.10.12"
  }
 },
 "nbformat": 4,
 "nbformat_minor": 2
}
