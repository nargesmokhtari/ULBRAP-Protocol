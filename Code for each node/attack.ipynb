{
 "cells": [
  {
   "cell_type": "markdown",
   "metadata": {},
   "source": [
    "## Sniffed messages "
   ]
  },
  {
   "cell_type": "code",
   "execution_count": 24,
   "metadata": {},
   "outputs": [],
   "source": [
    "# msg1\n",
    "PR_bin = '0110001110101001111111111100001110100000010011011010110001100011001011001010101100111011101100000111001101111000101010000011111000111000001100010000100110011000'\n",
    "CHR_hex = '0x34873dbe9387e9d312bc5e6940bad2dafd175b5c'\n",
    "TIR_bin = '01010111101111001011101101010011'\n",
    "\n",
    "# msg2\n",
    "CHT_hex = '0x62a263ee93426984701a50427ad9f99b615b7eff'\n",
    "AthR_hex = '0x20bc909d7021476867db51928b99fa4b81301574'\n",
    "PT_bin = '0010101010001110010010110110001001110100011000001010010111110111011111101000010000101010010011100100100100101010001100000001100010110110001111011010010010111100'\n",
    "TIT_bin = '01101011000101100010101010001011'\n",
    "\n",
    "# msg3\n",
    "PP_bin = '0101001111010001001010111111011101000110110100000011000100001110010111000001100110101110100000101010011101101010101000100101110111010101110001000110011101001101'\n",
    "PQ_bin = '0111101000101100110101010010110011111110100010001011101000101001001010101100011110100100110011100010011001101010000110101101001010111011101011110111110111111100'\n",
    "Reader_check_hex = '0x5df5d19d9d365ce4788b762b95c789034b3cab5e'\n",
    "TIR_prime_bin = '10101110111011001011000001101000'\n",
    "\n",
    "# msg4\n",
    "SE_bin = '0000001111101001111000010101001011010001110000111011010001101011100001110110100110111000000011010010111001111010010101101000100111110110000111110001100011110111'\n",
    "SF_bin = '1110000101010010110100011100001110110100011010111000011101101001101110000000110100101110011110100101011010001001011110101111011110101110100111010011100101101011'\n",
    "SG_hex = '0xe1595ed7cefbd88dae1f4476f63d57a60a3117d5'\n",
    "TIS_bin = '10001100111010000011101010000010'"
   ]
  },
  {
   "cell_type": "code",
   "execution_count": 25,
   "metadata": {},
   "outputs": [],
   "source": [
    "# Temp\n",
    "# msg1\n",
    "PR_bin = '0011101001000111111111011100011111101111101000001001110100000011110000001100001101110011110101100100011101000100011101000010100110001010010100101100000100101010'\n",
    "CHR_hex = '0x42637af095d2b654d1f9c4d19c8ba1a47fa7eed0'\n",
    "TIR_bin = '11011010000100011011011101001010'\n",
    "\n",
    "# msg2\n",
    "CHT_hex = '0x73aa9b512552ed7a1e7526b392fdf582cd7d8169'\n",
    "AthR_hex = '0xa93ac79a97f6414956d5c80044b5692ad6622b13'\n",
    "PT_bin = '1010010100011110011100100001100000110011101000111100111100010001011000001110000000101000110011111111101100000111101100101010001011101000000101010000110100101010'\n",
    "TIT_bin = '10000101011111110110111111001110'\n",
    "\n",
    "# msg3\n",
    "PP_bin = '1010010001010101010110001100100001100010011100100100100100000011110000000010000110110001000110000101110111111010110110111011110010001001001111000100111101100011'\n",
    "PQ_bin = '1001010000010001011101110110100000010010110000111110100000111110100010100000110010101000110010001111100010101001001110110001101110000110001111001011100000001010'\n",
    "Reader_check_hex = '0xe51b6d8d57f3a69a8fca8af271974dfde5d16d37'\n",
    "TIR_prime_bin = '01111100100110001101110001001000'\n",
    "\n",
    "# msg4\n",
    "SE_bin = '1011000000011111011111101110111101011100110101101101101110100110111011100101100111010011001111110101110010010011010011110111100010110101000100001011001011111001'\n",
    "SF_bin = '1111101111110111011110101110011010110110110111010011011101110010110011101001100111111010111001001001101001111011110000111100000101001001101010011101011001000111'\n",
    "SG_hex = '0x95c9ce4583db73314d4d5aa0869a78d04abbf73b'\n",
    "TIS_bin = '11001101001000000010001111000111'"
   ]
  },
  {
   "cell_type": "code",
   "execution_count": 26,
   "metadata": {},
   "outputs": [],
   "source": [
    "# Temp\n",
    "BalN_bin = '1111100111000000010101011111000010101000001001000001011011010110111111001110011000111000011010110010000001011101011100111100111110100101100000111110111001110011'\n",
    "S0_bin = '1010011001111110101110010010011010011110111100001111000001100001001000100111110101100000001111101111110111011110101110011010110110110111010011011101110010110011'"
   ]
  },
  {
   "cell_type": "code",
   "execution_count": 2,
   "metadata": {},
   "outputs": [],
   "source": [
    "BalN_bin = '1000110111111000011000100100101111111011001101100010000110111101101011110000110001001001001011011101100000010000001001101111111000010110111100000001101010011011'\n",
    "S0_bin = '1010010111001111010010101101000100101111010111101110010001001110101000000111110100111100001010100101101000111000011101101000110101110000111011010011011100000001'"
   ]
  },
  {
   "cell_type": "code",
   "execution_count": 27,
   "metadata": {},
   "outputs": [],
   "source": [
    "import secrets\n",
    "import hashlib"
   ]
  },
  {
   "cell_type": "code",
   "execution_count": 28,
   "metadata": {},
   "outputs": [],
   "source": [
    "def count_one_elements(binary_number):\n",
    "    # Gets a binary number,\n",
    "    # Counts '1' elements in binary number and returns it\n",
    "    count = 0\n",
    "    for digit in binary_number:\n",
    "        if digit == '1':\n",
    "            count += 1\n",
    "    return count\n",
    "\n",
    "def rotate_left(binary_number, shift_amount):\n",
    "    # Gets a binary number and shitf amount,\n",
    "    # Returns rotated number in binary\n",
    "    rotated_binary = binary_number[shift_amount:] + binary_number[:shift_amount]\n",
    "    return rotated_binary\n",
    "\n",
    "def rotate_right(binary_number, shift_amount):\n",
    "    # Gets a binary number and shitf amount,\n",
    "    # Returns rotated number in binary\n",
    "    rotated_binary = binary_number[-shift_amount:] + binary_number[:-shift_amount]\n",
    "    return rotated_binary"
   ]
  },
  {
   "cell_type": "code",
   "execution_count": 29,
   "metadata": {},
   "outputs": [],
   "source": [
    "def binary_xor(*args):\n",
    "    # Gets anu amount of binary numbers, \n",
    "    # (converts them to same lenth if they are not)\n",
    "    # Calculates XOR of them and then returns it\n",
    "\n",
    "    max_length = max(len(binary_string) for binary_string in args)\n",
    "    padded_args = [binary_string.zfill(max_length) for binary_string in args]\n",
    "    xor_binary_string = ''.join(str(sum(int(bit) for bit in bits) % 2) for bits in zip(*padded_args))\n",
    "\n",
    "    return xor_binary_string"
   ]
  },
  {
   "cell_type": "code",
   "execution_count": 30,
   "metadata": {},
   "outputs": [],
   "source": [
    "def binary_xor_4bin(bin1, bin2, bin3, bin4):\n",
    "    # Gets anu amount of binary numbers,\n",
    "    # (converts them to same lenth if they are not)\n",
    "    # Calculates XOR of them and then returns it\n",
    "\n",
    "    int1 = int(bin1, 2)\n",
    "    int2 = int(bin2, 2)\n",
    "    int3 = int(bin3, 2)\n",
    "    int4 = int(bin4, 2)\n",
    "\n",
    "    # Perform XOR operation\n",
    "    result_xor_int = int1 ^ int2 ^ int3 ^ int4\n",
    "\n",
    "    # Convert the result back to a binary string\n",
    "    result_xor_bin = bin(result_xor_int)[2:]\n",
    "\n",
    "    return result_xor_bin"
   ]
  },
  {
   "cell_type": "code",
   "execution_count": 31,
   "metadata": {},
   "outputs": [],
   "source": [
    "def hash_binary(binary_string):\n",
    "    # Gets a binary number,\n",
    "    # returns hash of it in hex\n",
    "    decimal_number = int(binary_string, 2)\n",
    "    byte_data = decimal_number.to_bytes((decimal_number.bit_length() + 7) // 8, byteorder='big')\n",
    "    sha1_hash = hashlib.sha1(byte_data).hexdigest()\n",
    "\n",
    "    sha1_hash = '0x' + sha1_hash\n",
    "    return sha1_hash"
   ]
  },
  {
   "cell_type": "code",
   "execution_count": 8,
   "metadata": {},
   "outputs": [],
   "source": [
    "# # R0 ^ IDNt\n",
    "# R0_XOR_IDNt_candidates = []\n",
    "\n",
    "# R0_XOR_IDNt_body = binary_xor(PR_bin, TIR_bin)\n",
    "# for shift_amount in range(0, 160):\n",
    "#     candidate = rotate_left(R0_XOR_IDNt_body, shift_amount)\n",
    "#     R0_XOR_IDNt_candidates.append(candidate)"
   ]
  },
  {
   "cell_type": "code",
   "execution_count": 32,
   "metadata": {},
   "outputs": [],
   "source": [
    "# R0 ^ IDNt\n",
    "R0_XOR_IDNt_candidates = []\n",
    "\n",
    "for shift_amount in range(0, 160):\n",
    "    R0_XOR_IDNt_body = rotate_left(PR_bin, shift_amount)\n",
    "    R0_XOR_IDNt_candidates.append(binary_xor(R0_XOR_IDNt_body, TIR_bin))"
   ]
  },
  {
   "cell_type": "code",
   "execution_count": 17,
   "metadata": {},
   "outputs": [
    {
     "data": {
      "text/plain": [
       "True"
      ]
     },
     "execution_count": 17,
     "metadata": {},
     "output_type": "execute_result"
    }
   ],
   "source": [
    "# R0_bin = '1110101000001110110000101000100111001011111011000110010101110101010010111101001011111111010011001110001000001110101110101100101000100100101111001010101111001111'\n",
    "# IDNt_bin = '0010101111000011001000000010100100110011000011001010000101010011001010100101110001011000101100111110110010001111100011000111101111111111101100101011110001110010'\n",
    "\n",
    "# binary_xor(R0_bin, IDNt_bin) in R0_XOR_IDNt_candidates"
   ]
  },
  {
   "cell_type": "code",
   "execution_count": 9,
   "metadata": {},
   "outputs": [],
   "source": [
    "# # R0 ^ IDNs\n",
    "# R0_XOR_IDNs_candidates = []\n",
    "\n",
    "# R0_XOR_IDNs_body = binary_xor(PT_bin, TIT_bin)\n",
    "# for shift_amount in range(0, 160):\n",
    "#     candidate = rotate_left(R0_XOR_IDNs_body, shift_amount)\n",
    "#     R0_XOR_IDNs_candidates.append(candidate)"
   ]
  },
  {
   "cell_type": "code",
   "execution_count": 33,
   "metadata": {},
   "outputs": [],
   "source": [
    "# R0 ^ IDNs\n",
    "R0_XOR_IDNs_candidates = []\n",
    "\n",
    "for shift_amount in range(0, 160):\n",
    "    R0_XOR_IDNs_body = rotate_left(PT_bin, shift_amount)\n",
    "    R0_XOR_IDNs_candidates.append(binary_xor(R0_XOR_IDNs_body, TIT_bin))"
   ]
  },
  {
   "cell_type": "code",
   "execution_count": 21,
   "metadata": {},
   "outputs": [
    {
     "data": {
      "text/plain": [
       "True"
      ]
     },
     "execution_count": 21,
     "metadata": {},
     "output_type": "execute_result"
    }
   ],
   "source": [
    "# R0_bin = '1110101000001110110000101000100111001011111011000110010101110101010010111101001011111111010011001110001000001110101110101100101000100100101111001010101111001111'\n",
    "# IDNs_bin = '1010001111000111111001111100111111001000111110101010001011000001110111000101011110101110100001011000111001000000001101101101111011110001010001010101000111000001'\n",
    "\n",
    "# binary_xor(R0_bin, IDNs_bin) in R0_XOR_IDNs_candidates"
   ]
  },
  {
   "cell_type": "code",
   "execution_count": 38,
   "metadata": {},
   "outputs": [],
   "source": [
    "S0_candidates = []\n",
    "\n",
    "# Get S0 From SE\n",
    "for TIS_shift_amount in range(0, 32):\n",
    "    shifted_TIS_bin = rotate_left(TIS_bin, TIS_shift_amount)\n",
    "    S0_body = binary_xor(SE_bin, shifted_TIS_bin)\n",
    "\n",
    "    for shift_amount in range(0, 160):\n",
    "        candidate = rotate_left(S0_body, shift_amount)\n",
    "        S0_candidates.append(candidate)\n",
    "\n",
    "# Get S0 From SE\n",
    "for TIS_shift_amount in range(0, 32):\n",
    "    shifted_TIS_bin = rotate_left(TIS_bin, TIS_shift_amount)\n",
    "    S0_body = binary_xor(SF_bin, shifted_TIS_bin)\n",
    "\n",
    "    for shift_amount in range(0, 160):\n",
    "        candidate = rotate_left(S0_body, shift_amount)\n",
    "        S0_candidates.append(candidate)"
   ]
  },
  {
   "cell_type": "code",
   "execution_count": 39,
   "metadata": {},
   "outputs": [
    {
     "data": {
      "text/plain": [
       "10080"
      ]
     },
     "execution_count": 39,
     "metadata": {},
     "output_type": "execute_result"
    }
   ],
   "source": [
    "unique_S0_candidates = list(set(S0_candidates))\n",
    "len(unique_S0_candidates)"
   ]
  },
  {
   "cell_type": "code",
   "execution_count": 36,
   "metadata": {},
   "outputs": [
    {
     "data": {
      "text/plain": [
       "True"
      ]
     },
     "execution_count": 36,
     "metadata": {},
     "output_type": "execute_result"
    }
   ],
   "source": [
    "S0_bin in unique_S0_candidates"
   ]
  },
  {
   "cell_type": "code",
   "execution_count": null,
   "metadata": {},
   "outputs": [],
   "source": [
    "# found_flag = False\n",
    "# for _, S0 in enumerate(unique_S0_candidates):\n",
    "#     if _ % 100 == 0:\n",
    "#         print(f\"{_}/{len(S0_candidates)}\")\n",
    "#     for R0_XOR_IDNs in R0_XOR_IDNs_candidates:\n",
    "#         for R0_XOR_IDNt in R0_XOR_IDNt_candidates:\n",
    "#             # pre_TKST = binary_xor(R0_XOR_IDNt, R0_XOR_IDNs, S0, BalN_bin)\n",
    "#             # pre_TKST = binary_xor_4bin_no2(R0_XOR_IDNt, R0_XOR_IDNs, S0, BalN_bin)\n",
    "#             pre_TKST = binary_xor_4bin(R0_XOR_IDNt, R0_XOR_IDNs, S0, BalN_bin)\n",
    "#             TKST_hex = hash_binary(pre_TKST)\n",
    "\n",
    "#             pre_SG = bin(int(TKST_hex, 16))[2:] + S0 + BalN_bin\n",
    "#             maybe_SG_hex = hash_binary(pre_SG)\n",
    "\n",
    "#             if SG_hex == maybe_SG_hex:\n",
    "#                 found_flag = True\n",
    "#                 print(f\"SG_hex : {maybe_SG_hex}\")\n",
    "#                 print(f\"TKST_hex : {TKST_hex}\")\n",
    "#                 break\n",
    "#         if found_flag == True:\n",
    "#             break\n",
    "#     if found_flag == True:\n",
    "#         break"
   ]
  },
  {
   "cell_type": "code",
   "execution_count": 40,
   "metadata": {},
   "outputs": [
    {
     "name": "stdout",
     "output_type": "stream",
     "text": [
      "0/10080\n",
      "100/10080\n",
      "200/10080\n",
      "300/10080\n",
      "400/10080\n",
      "500/10080\n",
      "600/10080\n",
      "700/10080\n",
      "800/10080\n",
      "900/10080\n",
      "1000/10080\n",
      "1100/10080\n",
      "1200/10080\n",
      "1300/10080\n",
      "1400/10080\n",
      "1500/10080\n",
      "1600/10080\n",
      "1700/10080\n",
      "1800/10080\n",
      "1900/10080\n",
      "2000/10080\n",
      "2100/10080\n",
      "2200/10080\n",
      "2300/10080\n",
      "2400/10080\n",
      "2500/10080\n",
      "2600/10080\n",
      "2700/10080\n",
      "2800/10080\n",
      "2900/10080\n",
      "3000/10080\n",
      "3100/10080\n",
      "3200/10080\n",
      "3300/10080\n",
      "SG_hex : 0x95c9ce4583db73314d4d5aa0869a78d04abbf73b\n",
      "TKST_hex : 0xa0403deaa6499faeeef40f4659ba2ceff5aff2ab\n"
     ]
    }
   ],
   "source": [
    "found_flag = False\n",
    "for _, S0 in enumerate(unique_S0_candidates):\n",
    "    if _ % 100 == 0:\n",
    "        print(f\"{_}/{len(unique_S0_candidates)}\")\n",
    "    for R0_XOR_IDNs in R0_XOR_IDNs_candidates:\n",
    "        for R0_XOR_IDNt in R0_XOR_IDNt_candidates:\n",
    "            # pre_TKST = binary_xor(R0_XOR_IDNt, R0_XOR_IDNs, S0, BalN_bin)\n",
    "            # pre_TKST = binary_xor_4bin_no2(R0_XOR_IDNt, R0_XOR_IDNs, S0, BalN_bin)\n",
    "            pre_TKST = binary_xor_4bin(R0_XOR_IDNt, R0_XOR_IDNs, S0, BalN_bin)\n",
    "            TKST_hex = hash_binary(pre_TKST)\n",
    "\n",
    "            pre_SG = bin(int(TKST_hex, 16))[2:] + S0 + BalN_bin\n",
    "            maybe_SG_hex = hash_binary(pre_SG)\n",
    "\n",
    "            if SG_hex == maybe_SG_hex:\n",
    "                found_flag = True\n",
    "                print(f\"SG_hex : {maybe_SG_hex}\")\n",
    "                print(f\"TKST_hex : {TKST_hex}\")\n",
    "                break\n",
    "        if found_flag == True:\n",
    "            break\n",
    "    if found_flag == True:\n",
    "        break"
   ]
  }
 ],
 "metadata": {
  "kernelspec": {
   "display_name": "Python 3",
   "language": "python",
   "name": "python3"
  },
  "language_info": {
   "codemirror_mode": {
    "name": "ipython",
    "version": 3
   },
   "file_extension": ".py",
   "mimetype": "text/x-python",
   "name": "python",
   "nbconvert_exporter": "python",
   "pygments_lexer": "ipython3",
   "version": "3.10.12"
  }
 },
 "nbformat": 4,
 "nbformat_minor": 2
}
